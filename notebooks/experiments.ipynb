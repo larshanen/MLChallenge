{
 "cells": [
  {
   "cell_type": "markdown",
   "metadata": {},
   "source": [
    "## 1. Baseline code provided by uni"
   ]
  },
  {
   "cell_type": "markdown",
   "metadata": {},
   "source": [
    "### 1.1 Import modules"
   ]
  },
  {
   "cell_type": "code",
   "execution_count": 1,
   "metadata": {},
   "outputs": [],
   "source": [
    "import pandas as pd\n",
    "import logging\n",
    "import json\n",
    "from sklearn.model_selection import train_test_split\n",
    "from sklearn.feature_extraction.text import CountVectorizer\n",
    "from sklearn.compose import ColumnTransformer\n",
    "from sklearn.pipeline import make_pipeline\n",
    "from sklearn.dummy import DummyRegressor\n",
    "from sklearn.linear_model import Ridge\n",
    "from sklearn.metrics import mean_absolute_error"
   ]
  },
  {
   "cell_type": "markdown",
   "metadata": {},
   "source": [
    "### 1.2 Baseline function to create [predictions](https://github.com/larshanen/MLChallenge/tree/main/notebooks/predicted.json)"
   ]
  },
  {
   "cell_type": "code",
   "execution_count": 2,
   "metadata": {},
   "outputs": [],
   "source": [
    "def main():\n",
    "    # Set the logging level to INFO and set loading message\n",
    "    logging.getLogger().setLevel(logging.INFO)\n",
    "    \n",
    "    # Load train and test sets and change all NA values to empty values\n",
    "    logging.info(\"Loading training/test data\")\n",
    "    train = pd.DataFrame.from_records(json.load(open('../data/train.json'))).fillna(\"\")\n",
    "    test = pd.DataFrame.from_records(json.load(open('../data/test.json'))).fillna(\"\")\n",
    "    \n",
    "    # Split the train set into train (75%) and validation (25%) sets\n",
    "    logging.info(\"Splitting validation\")\n",
    "    train, val = train_test_split(train, stratify=train['year'], random_state=123)\n",
    "    \n",
    "    # Store a featurizer to transform the 'title' column into a bag-of-words format\n",
    "    featurizer = ColumnTransformer(\n",
    "        transformers=[(\"title\", CountVectorizer(), \"title\")], remainder='drop')\n",
    "    \n",
    "    # Make a pipeline for the featurizer combined with a dummy regressor, that simply predicts the overall trained mean of the target variable\n",
    "    dummy = make_pipeline(featurizer, DummyRegressor(strategy='mean'))\n",
    "\n",
    "    # Make a pipeline for the featurizer and a ridge model, that aims to minimize the sum of squares\n",
    "    ridge = make_pipeline(featurizer, Ridge())\n",
    "    \n",
    "    # Drop target variable column and fit both models\n",
    "    logging.info(\"Fitting models\")\n",
    "    dummy.fit(train.drop('year', axis=1), train['year'].values)\n",
    "    ridge.fit(train.drop('year', axis=1), train['year'].values)\n",
    "    \n",
    "    # Calculate and report both MAE's\n",
    "    logging.info(\"Evaluating on validation data\")\n",
    "    err = mean_absolute_error(val['year'].values, dummy.predict(val.drop('year', axis=1)))\n",
    "    logging.info(f\"Mean baseline MAE: {err}\")\n",
    "    err = mean_absolute_error(val['year'].values, ridge.predict(val.drop('year', axis=1)))\n",
    "    logging.info(f\"Ridge regress MAE: {err}\")\n",
    "    \n",
    "    # Let the ridge model predict on test set\n",
    "    logging.info(f\"Predicting on test\")\n",
    "    pred = ridge.predict(test)\n",
    "    test['year'] = pred\n",
    "    \n",
    "    # Write prediction file\n",
    "    logging.info(\"Writing prediction file\")\n",
    "    test.to_json(\"predicted.json\", orient='records', indent=2)"
   ]
  },
  {
   "cell_type": "code",
   "execution_count": 4,
   "metadata": {},
   "outputs": [
    {
     "name": "stderr",
     "output_type": "stream",
     "text": [
      "INFO:root:Loading training/test data\n",
      "INFO:root:Splitting validation\n",
      "INFO:root:Fitting models\n",
      "INFO:root:Evaluating on validation data\n",
      "INFO:root:Mean baseline MAE: 7.8054390754858805\n",
      "INFO:root:Ridge regress MAE: 5.812345349001838\n",
      "INFO:root:Predicting on test\n",
      "INFO:root:Writing prediction file\n"
     ]
    }
   ],
   "source": [
    "main()"
   ]
  },
  {
   "cell_type": "markdown",
   "metadata": {},
   "source": [
    "## 2. Team code\n",
    "\n",
    "Please follow the instructions beneath when writing or adjusting code:"
   ]
  },
  {
   "cell_type": "code",
   "execution_count": 12,
   "metadata": {},
   "outputs": [],
   "source": [
    "# Describe every piece of code with comments\n",
    "# Include your name so we can report our individual contributions (this is mandatory)"
   ]
  },
  {
   "cell_type": "markdown",
   "metadata": {},
   "source": [
    "### 2.1 Calculate baseline performance"
   ]
  },
  {
   "cell_type": "code",
   "execution_count": 28,
   "metadata": {},
   "outputs": [
    {
     "name": "stdout",
     "output_type": "stream",
     "text": [
      "(21972, 7)\n"
     ]
    },
    {
     "data": {
      "text/html": [
       "<div>\n",
       "<style scoped>\n",
       "    .dataframe tbody tr th:only-of-type {\n",
       "        vertical-align: middle;\n",
       "    }\n",
       "\n",
       "    .dataframe tbody tr th {\n",
       "        vertical-align: top;\n",
       "    }\n",
       "\n",
       "    .dataframe thead th {\n",
       "        text-align: right;\n",
       "    }\n",
       "</style>\n",
       "<table border=\"1\" class=\"dataframe\">\n",
       "  <thead>\n",
       "    <tr style=\"text-align: right;\">\n",
       "      <th></th>\n",
       "      <th>ENTRYTYPE</th>\n",
       "      <th>title</th>\n",
       "      <th>editor</th>\n",
       "      <th>publisher</th>\n",
       "      <th>author</th>\n",
       "      <th>abstract</th>\n",
       "      <th>year</th>\n",
       "    </tr>\n",
       "  </thead>\n",
       "  <tbody>\n",
       "    <tr>\n",
       "      <th>0</th>\n",
       "      <td>inproceedings</td>\n",
       "      <td>Learning to lemmatise Polish noun phrases</td>\n",
       "      <td></td>\n",
       "      <td>Association for Computational Linguistics</td>\n",
       "      <td>[Radziszewski, Adam]</td>\n",
       "      <td></td>\n",
       "      <td>2008.547417</td>\n",
       "    </tr>\n",
       "    <tr>\n",
       "      <th>1</th>\n",
       "      <td>inproceedings</td>\n",
       "      <td>The Treebanked Conspiracy. Actors and Actions ...</td>\n",
       "      <td></td>\n",
       "      <td></td>\n",
       "      <td>[Passarotti, Marco, González Saavedra, Berta]</td>\n",
       "      <td></td>\n",
       "      <td>2009.837691</td>\n",
       "    </tr>\n",
       "    <tr>\n",
       "      <th>2</th>\n",
       "      <td>inproceedings</td>\n",
       "      <td>Linguistic structure and machine translation</td>\n",
       "      <td></td>\n",
       "      <td></td>\n",
       "      <td>[Lamb, Sydney M.]</td>\n",
       "      <td>If one understands the nature of linguistic st...</td>\n",
       "      <td>2002.711530</td>\n",
       "    </tr>\n",
       "    <tr>\n",
       "      <th>3</th>\n",
       "      <td>inproceedings</td>\n",
       "      <td>NSEmo at EmoInt-2017: An Ensemble to Predict E...</td>\n",
       "      <td></td>\n",
       "      <td>Association for Computational Linguistics</td>\n",
       "      <td>[Madisetty, Sreekanth, Desarkar, Maunendra San...</td>\n",
       "      <td>In this paper, we describe a method to predict...</td>\n",
       "      <td>2016.880134</td>\n",
       "    </tr>\n",
       "    <tr>\n",
       "      <th>4</th>\n",
       "      <td>inproceedings</td>\n",
       "      <td>Explaining data using causal Bayesian networks</td>\n",
       "      <td></td>\n",
       "      <td>Association for Computational Linguistics</td>\n",
       "      <td>[Sevilla, Jaime]</td>\n",
       "      <td>I introduce Causal Bayesian Networks as a form...</td>\n",
       "      <td>2015.042005</td>\n",
       "    </tr>\n",
       "  </tbody>\n",
       "</table>\n",
       "</div>"
      ],
      "text/plain": [
       "       ENTRYTYPE                                              title editor  \\\n",
       "0  inproceedings          Learning to lemmatise Polish noun phrases          \n",
       "1  inproceedings  The Treebanked Conspiracy. Actors and Actions ...          \n",
       "2  inproceedings       Linguistic structure and machine translation          \n",
       "3  inproceedings  NSEmo at EmoInt-2017: An Ensemble to Predict E...          \n",
       "4  inproceedings     Explaining data using causal Bayesian networks          \n",
       "\n",
       "                                   publisher  \\\n",
       "0  Association for Computational Linguistics   \n",
       "1                                              \n",
       "2                                              \n",
       "3  Association for Computational Linguistics   \n",
       "4  Association for Computational Linguistics   \n",
       "\n",
       "                                              author  \\\n",
       "0                               [Radziszewski, Adam]   \n",
       "1      [Passarotti, Marco, González Saavedra, Berta]   \n",
       "2                                  [Lamb, Sydney M.]   \n",
       "3  [Madisetty, Sreekanth, Desarkar, Maunendra San...   \n",
       "4                                   [Sevilla, Jaime]   \n",
       "\n",
       "                                            abstract         year  \n",
       "0                                                     2008.547417  \n",
       "1                                                     2009.837691  \n",
       "2  If one understands the nature of linguistic st...  2002.711530  \n",
       "3  In this paper, we describe a method to predict...  2016.880134  \n",
       "4  I introduce Causal Bayesian Networks as a form...  2015.042005  "
      ]
     },
     "execution_count": 28,
     "metadata": {},
     "output_type": "execute_result"
    }
   ],
   "source": [
    "# Extract predictions made by baseline function (Lars)\n",
    "myBaseline = pd.DataFrame.from_records(json.load(open('predicted.json'))).fillna(\"\")\n",
    "print(myBaseline.shape)\n",
    "myBaseline.head()"
   ]
  },
  {
   "cell_type": "code",
   "execution_count": 27,
   "metadata": {},
   "outputs": [
    {
     "name": "stdout",
     "output_type": "stream",
     "text": [
      "(65914, 7)\n"
     ]
    },
    {
     "data": {
      "text/html": [
       "<div>\n",
       "<style scoped>\n",
       "    .dataframe tbody tr th:only-of-type {\n",
       "        vertical-align: middle;\n",
       "    }\n",
       "\n",
       "    .dataframe tbody tr th {\n",
       "        vertical-align: top;\n",
       "    }\n",
       "\n",
       "    .dataframe thead th {\n",
       "        text-align: right;\n",
       "    }\n",
       "</style>\n",
       "<table border=\"1\" class=\"dataframe\">\n",
       "  <thead>\n",
       "    <tr style=\"text-align: right;\">\n",
       "      <th></th>\n",
       "      <th>ENTRYTYPE</th>\n",
       "      <th>title</th>\n",
       "      <th>editor</th>\n",
       "      <th>year</th>\n",
       "      <th>publisher</th>\n",
       "      <th>author</th>\n",
       "      <th>abstract</th>\n",
       "    </tr>\n",
       "  </thead>\n",
       "  <tbody>\n",
       "    <tr>\n",
       "      <th>0</th>\n",
       "      <td>inproceedings</td>\n",
       "      <td>Philippine Language Resources: Trends and Dire...</td>\n",
       "      <td></td>\n",
       "      <td>2009</td>\n",
       "      <td>Association for Computational Linguistics</td>\n",
       "      <td>[Roxas, Rachel Edita, Cheng, Charibeth, Lim, N...</td>\n",
       "      <td></td>\n",
       "    </tr>\n",
       "    <tr>\n",
       "      <th>1</th>\n",
       "      <td>inproceedings</td>\n",
       "      <td>A System for Translating Locative Prepositions...</td>\n",
       "      <td></td>\n",
       "      <td>1991</td>\n",
       "      <td>Association for Computational Linguistics</td>\n",
       "      <td>[Japkowicz, Nathalie, Wiebe, Janyce M.]</td>\n",
       "      <td></td>\n",
       "    </tr>\n",
       "    <tr>\n",
       "      <th>2</th>\n",
       "      <td>inproceedings</td>\n",
       "      <td>Introduction to the Shared Task on Comparing S...</td>\n",
       "      <td></td>\n",
       "      <td>2008</td>\n",
       "      <td>College Publications</td>\n",
       "      <td>[Bos, Johan]</td>\n",
       "      <td></td>\n",
       "    </tr>\n",
       "    <tr>\n",
       "      <th>3</th>\n",
       "      <td>inproceedings</td>\n",
       "      <td>Pynini: A Python library for weighted finite-s...</td>\n",
       "      <td></td>\n",
       "      <td>2016</td>\n",
       "      <td>Association for Computational Linguistics</td>\n",
       "      <td>[Gorman, Kyle]</td>\n",
       "      <td></td>\n",
       "    </tr>\n",
       "    <tr>\n",
       "      <th>4</th>\n",
       "      <td>inproceedings</td>\n",
       "      <td>Improving Readability of Swedish Electronic He...</td>\n",
       "      <td></td>\n",
       "      <td>2014</td>\n",
       "      <td>Association for Computational Linguistics</td>\n",
       "      <td>[Grigonyte, Gintarė, Kvist, Maria, Velupillai,...</td>\n",
       "      <td></td>\n",
       "    </tr>\n",
       "  </tbody>\n",
       "</table>\n",
       "</div>"
      ],
      "text/plain": [
       "       ENTRYTYPE                                              title editor  \\\n",
       "0  inproceedings  Philippine Language Resources: Trends and Dire...          \n",
       "1  inproceedings  A System for Translating Locative Prepositions...          \n",
       "2  inproceedings  Introduction to the Shared Task on Comparing S...          \n",
       "3  inproceedings  Pynini: A Python library for weighted finite-s...          \n",
       "4  inproceedings  Improving Readability of Swedish Electronic He...          \n",
       "\n",
       "   year                                  publisher  \\\n",
       "0  2009  Association for Computational Linguistics   \n",
       "1  1991  Association for Computational Linguistics   \n",
       "2  2008                       College Publications   \n",
       "3  2016  Association for Computational Linguistics   \n",
       "4  2014  Association for Computational Linguistics   \n",
       "\n",
       "                                              author abstract  \n",
       "0  [Roxas, Rachel Edita, Cheng, Charibeth, Lim, N...           \n",
       "1            [Japkowicz, Nathalie, Wiebe, Janyce M.]           \n",
       "2                                       [Bos, Johan]           \n",
       "3                                     [Gorman, Kyle]           \n",
       "4  [Grigonyte, Gintarė, Kvist, Maria, Velupillai,...           "
      ]
     },
     "execution_count": 27,
     "metadata": {},
     "output_type": "execute_result"
    }
   ],
   "source": [
    "myLabels = pd.DataFrame.from_records(json.load(open('../data/train.json'))).fillna(\"\")\n",
    "print(myLabels.shape)\n",
    "myLabels.head()"
   ]
  }
 ],
 "metadata": {
  "kernelspec": {
   "display_name": "Python 3",
   "language": "python",
   "name": "python3"
  },
  "language_info": {
   "codemirror_mode": {
    "name": "ipython",
    "version": 3
   },
   "file_extension": ".py",
   "mimetype": "text/x-python",
   "name": "python",
   "nbconvert_exporter": "python",
   "pygments_lexer": "ipython3",
   "version": "3.11.2"
  }
 },
 "nbformat": 4,
 "nbformat_minor": 2
}
